{
 "cells": [
  {
   "cell_type": "code",
   "execution_count": 35,
   "id": "c8fb2a0b",
   "metadata": {},
   "outputs": [],
   "source": [
    "import pandas as pd\n",
    "import glob\n",
    "import os\n",
    "from vaderSentiment.vaderSentiment import SentimentIntensityAnalyzer"
   ]
  },
  {
   "cell_type": "code",
   "execution_count": 36,
   "id": "455abaee",
   "metadata": {},
   "outputs": [
    {
     "name": "stdout",
     "output_type": "stream",
     "text": [
      "['raw10_cleaned.csv', 'raw10_vader.csv', 'raw1_cleaned.csv', 'raw1_vader.csv', 'raw2_cleaned.csv', 'raw2_vader.csv', 'raw3_cleaned.csv', 'raw3_vader.csv', 'raw4_cleaned.csv', 'raw4_vader.csv', 'raw5_cleaned.csv', 'raw5_vader.csv', 'raw6_cleaned.csv', 'raw6_vader.csv', 'raw7_cleaned.csv', 'raw7_vader.csv', 'raw8_cleaned.csv', 'raw8_vader.csv', 'raw9_cleaned.csv', 'raw9_vader.csv', 'sentiment_summary_vader.csv']\n"
     ]
    }
   ],
   "source": [
    "# Define folder path containing CSV files\n",
    "folder_path = \"C:/Users/ewald/Documents/TU München/SS25 [NTU]/Machine Learning_Python/Final Project/VADER/raw_cleaned\"\n",
    "print(os.listdir(folder_path))\n"
   ]
  },
  {
   "cell_type": "code",
   "execution_count": 37,
   "id": "944d58e9",
   "metadata": {},
   "outputs": [],
   "source": [
    "# Hard-code file names as loop did not work\n",
    "csv_files = [os.path.join(folder_path, f'raw{i}_cleaned.csv') for i in range(1, 11)]"
   ]
  },
  {
   "cell_type": "code",
   "execution_count": 38,
   "id": "61580def",
   "metadata": {},
   "outputs": [
    {
     "name": "stdout",
     "output_type": "stream",
     "text": [
      "Checking files in C:/Users/ewald/Documents/TU München/SS25 [NTU]/Machine Learning_Python/Final Project/VADER/raw_cleaned:\n",
      "Does raw1_cleaned.csv exist? True\n",
      "Does raw2_cleaned.csv exist? True\n",
      "Does raw3_cleaned.csv exist? True\n",
      "Does raw4_cleaned.csv exist? True\n",
      "Does raw5_cleaned.csv exist? True\n",
      "Does raw6_cleaned.csv exist? True\n",
      "Does raw7_cleaned.csv exist? True\n",
      "Does raw8_cleaned.csv exist? True\n",
      "Does raw9_cleaned.csv exist? True\n",
      "Does raw10_cleaned.csv exist? True\n"
     ]
    }
   ],
   "source": [
    "# Debugging: Check file existence\n",
    "print(f\"Checking files in {folder_path}:\")\n",
    "for f in csv_files:\n",
    "    print(f\"Does {os.path.basename(f)} exist? {os.path.exists(f)}\")"
   ]
  },
  {
   "cell_type": "code",
   "execution_count": 41,
   "id": "ef5dcc13",
   "metadata": {},
   "outputs": [],
   "source": [
    "# Initialize VADER sentiment analyzer\n",
    "analyzer = SentimentIntensityAnalyzer()\n",
    "\n",
    "# Function to apply VADER sentiment analysis to a text column\n",
    "def apply_vader(text):\n",
    "    if isinstance(text, str) and text.strip():  # Check for valid string\n",
    "        scores = analyzer.polarity_scores(text)\n",
    "        compound = scores['compound']\n",
    "        #Assign sentiment based on compound score\n",
    "        sentiment_label = \"positive\" if compound > 0.05 else \"negative\" if compound < -0.05 else \"neutral\"\n",
    "        # Print sentiment label for debugging\n",
    "        return pd.Series({\n",
    "            'pos': scores['pos'],\n",
    "            'neg': scores['neg'],\n",
    "            'neu': scores['neu'],\n",
    "            'compound': scores['compound'],\n",
    "            \"sentiment_label\": sentiment_label\n",
    "        })\n",
    "    else:\n",
    "        return pd.Series({'pos': 0.0, 'neg': 0.0, 'neu': 0.0, 'compound': 0.0, \"sentiment_label\": \"neutral\"})"
   ]
  },
  {
   "cell_type": "code",
   "execution_count": 45,
   "id": "259f66d5",
   "metadata": {},
   "outputs": [
    {
     "name": "stdout",
     "output_type": "stream",
     "text": [
      "Processed and saved: C:/Users/ewald/Documents/TU München/SS25 [NTU]/Machine Learning_Python/Final Project/VADER/raw_cleaned\\raw1_vader.csv\n",
      "Processed and saved: C:/Users/ewald/Documents/TU München/SS25 [NTU]/Machine Learning_Python/Final Project/VADER/raw_cleaned\\raw2_vader.csv\n",
      "Processed and saved: C:/Users/ewald/Documents/TU München/SS25 [NTU]/Machine Learning_Python/Final Project/VADER/raw_cleaned\\raw3_vader.csv\n",
      "Processed and saved: C:/Users/ewald/Documents/TU München/SS25 [NTU]/Machine Learning_Python/Final Project/VADER/raw_cleaned\\raw4_vader.csv\n",
      "Processed and saved: C:/Users/ewald/Documents/TU München/SS25 [NTU]/Machine Learning_Python/Final Project/VADER/raw_cleaned\\raw5_vader.csv\n",
      "Processed and saved: C:/Users/ewald/Documents/TU München/SS25 [NTU]/Machine Learning_Python/Final Project/VADER/raw_cleaned\\raw6_vader.csv\n",
      "Processed and saved: C:/Users/ewald/Documents/TU München/SS25 [NTU]/Machine Learning_Python/Final Project/VADER/raw_cleaned\\raw7_vader.csv\n",
      "Processed and saved: C:/Users/ewald/Documents/TU München/SS25 [NTU]/Machine Learning_Python/Final Project/VADER/raw_cleaned\\raw8_vader.csv\n",
      "Processed and saved: C:/Users/ewald/Documents/TU München/SS25 [NTU]/Machine Learning_Python/Final Project/VADER/raw_cleaned\\raw9_vader.csv\n",
      "Processed and saved: C:/Users/ewald/Documents/TU München/SS25 [NTU]/Machine Learning_Python/Final Project/VADER/raw_cleaned\\raw10_vader.csv\n",
      "\n",
      "Summary of mean compound scores saved to 'sentiment_summary_vader.csv':\n",
      "                File  Mean Positive Score  Mean Negative Score  \\\n",
      "0   raw1_cleaned.csv             0.144782             0.075999   \n",
      "1   raw2_cleaned.csv             0.145205             0.085720   \n",
      "2   raw3_cleaned.csv             0.146864             0.080198   \n",
      "3   raw4_cleaned.csv             0.140875             0.082314   \n",
      "4   raw5_cleaned.csv             0.144162             0.078273   \n",
      "5   raw6_cleaned.csv             0.156197             0.079039   \n",
      "6   raw7_cleaned.csv             0.163527             0.085044   \n",
      "7   raw8_cleaned.csv             0.166475             0.086156   \n",
      "8   raw9_cleaned.csv             0.157590             0.081396   \n",
      "9  raw10_cleaned.csv             0.164574             0.092554   \n",
      "\n",
      "   Mean Neutral Score  Mean Compound Score  \n",
      "0            0.779218             0.195860  \n",
      "1            0.769079             0.189823  \n",
      "2            0.772934             0.187427  \n",
      "3            0.776802             0.191855  \n",
      "4            0.777564             0.203682  \n",
      "5            0.764768             0.214961  \n",
      "6            0.751431             0.193697  \n",
      "7            0.747368             0.210402  \n",
      "8            0.761006             0.215681  \n",
      "9            0.742865             0.204794  \n"
     ]
    }
   ],
   "source": [
    "# Store summary statistics\n",
    "summary = []\n",
    "\n",
    "for file in csv_files:\n",
    "    # Read CSV\n",
    "    df = pd.read_csv(file)\n",
    "    \n",
    "    # Ensure 'comment_body' column exists\n",
    "    if 'comment_body' not in df.columns:\n",
    "        print(f\"Warning: 'comment_body' column not found in {file}. Skipping...\")\n",
    "        continue\n",
    "    \n",
    "    # Apply VADER sentiment analysis to 'comment_body'\n",
    "    sentiment_scores = df['comment_body'].apply(apply_vader)\n",
    "    df = pd.concat([df, sentiment_scores], axis=1)\n",
    "    \n",
    "    # Save output to a new CSV with '_vader' suffix\n",
    "    output_file = file.replace('_cleaned.csv', '_vader.csv')\n",
    "    df.to_csv(output_file, index=False)\n",
    "    print(f\"Processed and saved: {output_file}\")\n",
    "    \n",
    "    # Compute summary statistics (mean pos, neg, neu, compound)\n",
    "    summary.append({\n",
    "        'File': os.path.basename(file),\n",
    "        'Mean Positive Score': df['pos'].mean(),\n",
    "        'Mean Negative Score': df['neg'].mean(),\n",
    "        'Mean Neutral Score': df['neu'].mean(),\n",
    "        'Mean Compound Score': df['compound'].mean()\n",
    "    })\n",
    "   \n",
    "# Create and save summary DataFrame\n",
    "summary_df = pd.DataFrame(summary)\n",
    "summary_df.to_csv(os.path.join(folder_path, 'sentiment_summary_vader.csv'), index=False)\n",
    "print(\"\\nSummary of mean compound scores saved to 'sentiment_summary_vader.csv':\")\n",
    "print(summary_df)"
   ]
  }
 ],
 "metadata": {
  "kernelspec": {
   "display_name": "base",
   "language": "python",
   "name": "python3"
  },
  "language_info": {
   "codemirror_mode": {
    "name": "ipython",
    "version": 3
   },
   "file_extension": ".py",
   "mimetype": "text/x-python",
   "name": "python",
   "nbconvert_exporter": "python",
   "pygments_lexer": "ipython3",
   "version": "3.12.3"
  }
 },
 "nbformat": 4,
 "nbformat_minor": 5
}
